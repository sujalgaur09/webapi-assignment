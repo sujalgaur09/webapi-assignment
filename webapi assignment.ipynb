{
 "cells": [
  {
   "cell_type": "code",
   "execution_count": 2,
   "id": "6b3a5af5-bf76-4a3c-a594-61b40be24efa",
   "metadata": {},
   "outputs": [
    {
     "name": "stdout",
     "output_type": "stream",
     "text": [
      "ANSWER1:\n",
      "API= application programming interface\n",
      "An API allows two software applications to interact with each other by sharing data and functionality. An API acts as a mediator between two applications, enabling them to communicate with each other.\n",
      "EXAMPLE = a real life example of api is interface used between bank and google pay when a transaction requested by google pay first google pay connect with bank server or application have a communication with that wheter the requested amount is in the bank or not , if the requested amount is avilable in the bank ,bank send signal to gpay and gpay proceeds further.\n",
      "\n"
     ]
    }
   ],
   "source": [
    "print(\"\"\"ANSWER1:\n",
    "API= application programming interface\n",
    "An API allows two software applications to interact with each other by sharing data and functionality. An API acts as a mediator between two applications, enabling them to communicate with each other.\n",
    "EXAMPLE = a real life example of api is interface used between bank and google pay when a transaction requested by google pay first google pay connect with bank server or application have a communication with that wheter the requested amount is in the bank or not , if the requested amount is avilable in the bank ,bank send signal to gpay and gpay proceeds further.\n",
    "\"\"\")"
   ]
  },
  {
   "cell_type": "code",
   "execution_count": 1,
   "id": "d149c00c-d6c2-4784-b8a8-565e86ab74dc",
   "metadata": {},
   "outputs": [
    {
     "name": "stdout",
     "output_type": "stream",
     "text": [
      "\n",
      "ANSWER2:\n",
      "The main advantage of providing an API is that it allows your users to do more with your product or service (i.e. it increases the value of your product). This typically takes one of two forms -\n",
      "\n",
      "an integration. An example of an integration is to push notifications from your product (such as CRM, Helpdesk) to a messaging tool such as Slack. In this way, if your customer uses Slack they can receive notifications without having to login directly to your system or check emails.\n",
      "new functionality. In the early days of Twitter, some of the most popular Twitter clients were produced by third parties using the Twitter API. Twitter and its users benefited from the new functionality that was undertaken by other companies.\n",
      "\n",
      "The disadvantages to providing an API are,\n",
      "\n",
      "Cost. Providing an API is expensive in terms of development time, ongoing maintenance, providing API documentation on your website and providing support to users of your API.\n",
      "Security exposure. Adding an API adds another attack surface to your website.\n",
      "You might not like the result or you may change business direction. It's not always easy to predict exactly how your API will be used. If your integration with a messaging system means that users login to your service less often, will there be an overall negative impact for you? Withdrawing an API can be painful for users if you decide that you need to do so. This is unusual but it can happen. As Twitter's business evolved it changed its rules for accessing its API which resulted in a number of problems for users and developers\n"
     ]
    }
   ],
   "source": [
    "print(\"\"\"\n",
    "ANSWER2:\n",
    "The main advantage of providing an API is that it allows your users to do more with your product or service (i.e. it increases the value of your product). This typically takes one of two forms -\n",
    "\n",
    "an integration. An example of an integration is to push notifications from your product (such as CRM, Helpdesk) to a messaging tool such as Slack. In this way, if your customer uses Slack they can receive notifications without having to login directly to your system or check emails.\n",
    "new functionality. In the early days of Twitter, some of the most popular Twitter clients were produced by third parties using the Twitter API. Twitter and its users benefited from the new functionality that was undertaken by other companies.\n",
    "\n",
    "The disadvantages to providing an API are,\n",
    "\n",
    "Cost. Providing an API is expensive in terms of development time, ongoing maintenance, providing API documentation on your website and providing support to users of your API.\n",
    "Security exposure. Adding an API adds another attack surface to your website.\n",
    "You might not like the result or you may change business direction. It's not always easy to predict exactly how your API will be used. If your integration with a messaging system means that users login to your service less often, will there be an overall negative impact for you? Withdrawing an API can be painful for users if you decide that you need to do so. This is unusual but it can happen. As Twitter's business evolved it changed its rules for accessing its API which resulted in a number of problems for users and developers\"\"\")"
   ]
  },
  {
   "cell_type": "code",
   "execution_count": 2,
   "id": "a2e6541b-4ca8-4e8f-894f-c323d39b1f23",
   "metadata": {},
   "outputs": [
    {
     "name": "stdout",
     "output_type": "stream",
     "text": [
      "\n",
      "ANSWER3:\n",
      "web API is a subset of API , its is a type of api which works on the HTTP protocols where HTTP stands for hypertext transfer protocol which connect the different homogeneous and heterogeneous apps by sharing data and funtionality and intregrate the third party services.\n",
      "\n",
      "DIFFERENCE:\n",
      "the difference \n",
      "api and web api is web api is subset of api\n",
      "\n",
      "api works on TCP/IP , HTTP protocol \n",
      "\n",
      "web api works on HTTP protocol only \n"
     ]
    }
   ],
   "source": [
    "print(\"\"\"\n",
    "ANSWER3:\n",
    "web API is a subset of API , its is a type of api which works on the HTTP protocols where HTTP stands for hypertext transfer protocol which connect the different homogeneous and heterogeneous apps by sharing data and funtionality and intregrate the third party services.\n",
    "\n",
    "DIFFERENCE:\n",
    "the difference \n",
    "api and web api is web api is subset of api\n",
    "\n",
    "api works on TCP/IP , HTTP protocol \n",
    "\n",
    "web api works on HTTP protocol only \"\"\")"
   ]
  },
  {
   "cell_type": "code",
   "execution_count": 4,
   "id": "cfa40bd4-3290-468b-b06e-abed6c8667d1",
   "metadata": {},
   "outputs": [
    {
     "name": "stdout",
     "output_type": "stream",
     "text": [
      "\n",
      "ANSWER 4:\n",
      "SOAP=SOAP stands for Simple Object Access Protocol is a network platform used in a web service to exchange or communicate data between two different machines on a network. It uses the XML format of data to transfer messages over the HTTP protocol. In Web services, SOAP allows the user request to interact with other programming languages. In this way, it provides a way to communicate between applications running on different platforms (Operating system), with programming languages and technologies used in web service.\n",
      "\n",
      "REST = REST stands for REpresentational State Transfer. It is an architectural style that provides standards between computer systems on a web service. It is a set of constraints used to create a lightweight, scalable, and maintainable web service that facilitates easy communication. It is a set of constraints used to create a lightweight, scalable and maintainable web service that makes easy communication with each other. All web services are based on the REST; hence it is called a RESTful service. The purpose of developing a RESTful web service is to make the web service more effective. The Roy Fielding develops it in 2000, who also developed the HTTP protocol. It does not depend on a specific protocol to use, but it's used HTTP/HTTPS.\n",
      "\n",
      "SHORTCOMING OF SOAP :\n",
      "SOAP is used only XML format data in web service, whereas JSON and other lightweight formats are not supported by it.\n",
      "It is slow because it uses XML format, whereas the payload for a simple string message is large.\n",
      "There are no security features in the SOAP specification.\n",
      "There is no state reference for the remote object in the SOAP client.\n",
      "\n",
      "\n"
     ]
    }
   ],
   "source": [
    "print(\"\"\"\n",
    "ANSWER 4:\n",
    "SOAP=SOAP stands for Simple Object Access Protocol is a network platform used in a web service to exchange or communicate data between two different machines on a network. It uses the XML format of data to transfer messages over the HTTP protocol. In Web services, SOAP allows the user request to interact with other programming languages. In this way, it provides a way to communicate between applications running on different platforms (Operating system), with programming languages and technologies used in web service.\n",
    "\n",
    "REST = REST stands for REpresentational State Transfer. It is an architectural style that provides standards between computer systems on a web service. It is a set of constraints used to create a lightweight, scalable, and maintainable web service that facilitates easy communication. It is a set of constraints used to create a lightweight, scalable and maintainable web service that makes easy communication with each other. All web services are based on the REST; hence it is called a RESTful service. The purpose of developing a RESTful web service is to make the web service more effective. The Roy Fielding develops it in 2000, who also developed the HTTP protocol. It does not depend on a specific protocol to use, but it's used HTTP/HTTPS.\n",
    "\n",
    "SHORTCOMING OF SOAP :\n",
    "SOAP is used only XML format data in web service, whereas JSON and other lightweight formats are not supported by it.\n",
    "It is slow because it uses XML format, whereas the payload for a simple string message is large.\n",
    "There are no security features in the SOAP specification.\n",
    "There is no state reference for the remote object in the SOAP client.\n",
    "\n",
    "\"\"\")"
   ]
  },
  {
   "cell_type": "code",
   "execution_count": 6,
   "id": "5a76e3df-02dc-4ebc-8f43-953c063346ca",
   "metadata": {},
   "outputs": [
    {
     "name": "stdout",
     "output_type": "stream",
     "text": [
      "\n",
      "ANSWER5:\n",
      "DIFFERENCE BETWEEN REST AND SOAP :\n",
      "REST:It stands for REpresentational State Transfer.\n",
      "It is not a protocol. It is an architectural style for distributed hypermedia system.\n",
      "REST requires less bandwidth and resources as compared to SOAP.\n",
      "It is not specifically applied that the message format must be XML or JSON, etc.\n",
      "It has better performance as compared to SOAP, less CPU intensive, lesser code, etc.\n",
      "REST inherits security measures from the underlying transport.\n",
      "\n",
      "SOAP:\n",
      "\n"
     ]
    }
   ],
   "source": [
    "print(\"\"\"\n",
    "ANSWER5:\n",
    "DIFFERENCE BETWEEN REST AND SOAP :\n",
    "REST:It stands for REpresentational State Transfer.\n",
    "It is not a protocol. It is an architectural style for distributed hypermedia system.\n",
    "REST requires less bandwidth and resources as compared to SOAP.\n",
    "It is not specifically applied that the message format must be XML or JSON, etc.\n",
    "It has better performance as compared to SOAP, less CPU intensive, lesser code, etc.\n",
    "REST inherits security measures from the underlying transport.\n",
    "\n",
    "SOAP:\n",
    "It stands for Simple Object Access Protocol.\t\n",
    "It is XML based messaging protocol.\t\n",
    "It needs more bandwidth and resources for better web performance.\t\n",
    "SOAP enforces XML as a message format.\t\n",
    "It has not great performance as compared to REST.\t\n",
    "\"\"\")"
   ]
  },
  {
   "cell_type": "code",
   "execution_count": null,
   "id": "83d04ded-d5c4-4259-8317-7f8d16168049",
   "metadata": {},
   "outputs": [],
   "source": []
  }
 ],
 "metadata": {
  "kernelspec": {
   "display_name": "Python 3 (ipykernel)",
   "language": "python",
   "name": "python3"
  },
  "language_info": {
   "codemirror_mode": {
    "name": "ipython",
    "version": 3
   },
   "file_extension": ".py",
   "mimetype": "text/x-python",
   "name": "python",
   "nbconvert_exporter": "python",
   "pygments_lexer": "ipython3",
   "version": "3.10.8"
  }
 },
 "nbformat": 4,
 "nbformat_minor": 5
}
